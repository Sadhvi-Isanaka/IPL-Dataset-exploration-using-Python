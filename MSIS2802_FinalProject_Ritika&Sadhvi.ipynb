{
 "cells": [
  {
   "cell_type": "markdown",
   "metadata": {},
   "source": [
    "# 2008-2017 Indian Premier League(Cricket) Data Analysis"
   ]
  },
  {
   "cell_type": "code",
   "execution_count": 293,
   "metadata": {},
   "outputs": [
    {
     "name": "stdout",
     "output_type": "stream",
     "text": [
      "Populating the interactive namespace from numpy and matplotlib\n"
     ]
    }
   ],
   "source": [
    "import pandas as pd\n",
    "import numpy as np\n",
    "import seaborn as sns\n",
    "%pylab inline\n",
    "\n",
    "import sklearn as sk\n",
    "import sklearn.tree as tree\n",
    "from IPython.display import Image  \n",
    "import pydotplus\n",
    "\n",
    "import warnings\n",
    "warnings.filterwarnings('ignore')\n",
    "pd.set_option('display.max_columns',200)\n",
    "pd.set_option('display.max_rows',500)"
   ]
  },
  {
   "cell_type": "markdown",
   "metadata": {},
   "source": [
    "# 1.DataSet Description"
   ]
  },
  {
   "cell_type": "markdown",
   "metadata": {},
   "source": [
    "<ul>\n",
    "<li> <b> Ball_by_ball </b>is a dataset that contains information for each ball like how many runs scored, were there any extras given by bowlers, if yes, was the extra run is due to wide, NoBall, Legbye etc. and did the striker got out in the ball, if yes how like was it an LBW, Stumped etc. Each row is a ball delivered. </li>\n",
    "<li> <b> Match </b> is a dataset of all matches which contains information like which teams played in thematch, where the match is played, who is the toss winner, match winner etc., . Each row is a single Match.</li>\n",
    "<li> <b> Player </b> Contains information about each player like player's home country, his batting skill, bowling skill. Each row is a player  \n",
    "<li> <b> Player_match </b> is a dataset of all players by each match. Each row is for a player </li>\n",
    "<li> <b> Team </b> is a dataset of all teams, has info about teams names and IDs, Each row is a Team </li>\n",
    "</ul>"
   ]
  },
  {
   "cell_type": "markdown",
   "metadata": {},
   "source": [
    "### Important Columns in Ball_by_Ball dataset:\n",
    "\n",
    "<ol>\n",
    "<li> Runs_Scored: No of Runs Scored for each ball. </li>\n",
    "<li> Bowler_Wicket: If the bowler has taken wicket in that ball </li>\n",
    "<li> Bowler_Extras: If there were any extra free runs given by the bowler for taht ball </li>\n",
    "<li> Striker: Player batting for the ball</li>\n",
    "<li> Bowler: Player who is bowling  </li>\n",
    "</ol>"
   ]
  },
  {
   "cell_type": "markdown",
   "metadata": {},
   "source": [
    "### Important columns for Match dataset\n",
    "<ol>\n",
    "<li> City_Name : where the match is happening. </li>\n",
    "<li> Team1, Team2: Teams playing in the match</li>\n",
    "<li> Toss_Winner: which team won the toss in the game. </li>\n",
    "<li> Match_WInner: which team won the match </li>\n",
    "<li> ManOfMach: which player is man of the match </li>\n",
    "<li> Toss_Name: Did the toss winner team cg=hoose to bat first or bowl first </li>\n",
    "<li> Win_Type: Did the team win by runs or wickets</li>\n",
    "\n",
    "</ol>\n"
   ]
  },
  {
   "cell_type": "markdown",
   "metadata": {},
   "source": [
    "### Important columns for Player dataset\n",
    "\n",
    "<ol>\n",
    "<li> Player_Name: Name of the Player. </li>\n",
    "<li> DOB: Date of birth of the player </li>\n",
    "<li> Batting_hand: Is the player right handed or left handed batsman </li>\n",
    "<li> Bowling_skill: what is the bowling skill of the plaey like is he right arm fast bowler of left hand medium bolwer </li>\n",
    "<li> Country_Name: Home country of the player </li>\n",
    "</ol>\n"
   ]
  },
  {
   "cell_type": "markdown",
   "metadata": {},
   "source": [
    "### Important columns for Player_Match dataset\n",
    "\n",
    "<ol>\n",
    "<li>Player_team: Which team the player is playing for </li>\n",
    "<li>Opposit_Team: who is the opposite team </li>\n",
    "<li> Role_Desc: what is the role of the player in the match </li>\n",
    "<li> is_manofThematch: is the player man of the match </li>\n",
    "<li> Age_As_on_match: did the player's team won </li>\n",
    "\n",
    "</ol>\n"
   ]
  },
  {
   "cell_type": "code",
   "execution_count": 294,
   "metadata": {},
   "outputs": [],
   "source": [
    "Ball_by_ball = pd.read_csv('Ball_by_Ball.csv',encoding = \"latin-1\")\n",
    "Match = pd.read_csv('Match.csv',encoding = \"latin-1\")\n",
    "Player = pd.read_csv('Player.csv',encoding = \"latin-1\")\n",
    "Player_match = pd.read_csv('Player_match.csv',encoding = \"latin-1\")\n",
    "Team = pd.read_csv('Team.csv',encoding = \"latin-1\")"
   ]
  },
  {
   "cell_type": "code",
   "execution_count": 295,
   "metadata": {},
   "outputs": [
    {
     "data": {
      "text/html": [
       "<div>\n",
       "<style scoped>\n",
       "    .dataframe tbody tr th:only-of-type {\n",
       "        vertical-align: middle;\n",
       "    }\n",
       "\n",
       "    .dataframe tbody tr th {\n",
       "        vertical-align: top;\n",
       "    }\n",
       "\n",
       "    .dataframe thead th {\n",
       "        text-align: right;\n",
       "    }\n",
       "</style>\n",
       "<table border=\"1\" class=\"dataframe\">\n",
       "  <thead>\n",
       "    <tr style=\"text-align: right;\">\n",
       "      <th></th>\n",
       "      <th>MatcH_id</th>\n",
       "      <th>Over_id</th>\n",
       "      <th>Ball_id</th>\n",
       "      <th>Innings_No</th>\n",
       "      <th>Team_Batting</th>\n",
       "      <th>Team_Bowling</th>\n",
       "      <th>Striker_Batting_Position</th>\n",
       "      <th>Extra_Type</th>\n",
       "      <th>Runs_Scored</th>\n",
       "      <th>Extra_runs</th>\n",
       "      <th>Wides</th>\n",
       "      <th>Legbyes</th>\n",
       "      <th>Byes</th>\n",
       "      <th>Noballs</th>\n",
       "      <th>Penalty</th>\n",
       "      <th>Bowler_Extras</th>\n",
       "      <th>Out_type</th>\n",
       "      <th>Caught</th>\n",
       "      <th>Bowled</th>\n",
       "      <th>Run_out</th>\n",
       "      <th>LBW</th>\n",
       "      <th>Retired_hurt</th>\n",
       "      <th>Stumped</th>\n",
       "      <th>caught_and_bowled</th>\n",
       "      <th>hit_wicket</th>\n",
       "      <th>ObstructingFeild</th>\n",
       "      <th>Bowler_Wicket</th>\n",
       "      <th>Match_Date</th>\n",
       "      <th>Season</th>\n",
       "      <th>Striker</th>\n",
       "      <th>Non_Striker</th>\n",
       "      <th>Bowler</th>\n",
       "      <th>Player_Out</th>\n",
       "      <th>Fielders</th>\n",
       "      <th>Striker_match_SK</th>\n",
       "      <th>StrikerSK</th>\n",
       "      <th>NonStriker_match_SK</th>\n",
       "      <th>NONStriker_SK</th>\n",
       "      <th>Fielder_match_SK</th>\n",
       "      <th>Fielder_SK</th>\n",
       "      <th>Bowler_match_SK</th>\n",
       "      <th>BOWLER_SK</th>\n",
       "      <th>PlayerOut_match_SK</th>\n",
       "      <th>BattingTeam_SK</th>\n",
       "      <th>BowlingTeam_SK</th>\n",
       "      <th>Keeper_Catch</th>\n",
       "      <th>Player_out_sk</th>\n",
       "      <th>MatchDateSK</th>\n",
       "    </tr>\n",
       "  </thead>\n",
       "  <tbody>\n",
       "    <tr>\n",
       "      <th>0</th>\n",
       "      <td>598028</td>\n",
       "      <td>15</td>\n",
       "      <td>6</td>\n",
       "      <td>1</td>\n",
       "      <td>5</td>\n",
       "      <td>2</td>\n",
       "      <td>6.0</td>\n",
       "      <td>No Extras</td>\n",
       "      <td>4</td>\n",
       "      <td>0</td>\n",
       "      <td>0</td>\n",
       "      <td>0</td>\n",
       "      <td>0</td>\n",
       "      <td>0</td>\n",
       "      <td>0</td>\n",
       "      <td>0</td>\n",
       "      <td>Not Applicable</td>\n",
       "      <td>0</td>\n",
       "      <td>0</td>\n",
       "      <td>0</td>\n",
       "      <td>0</td>\n",
       "      <td>0</td>\n",
       "      <td>0</td>\n",
       "      <td>0</td>\n",
       "      <td>0</td>\n",
       "      <td>0</td>\n",
       "      <td>0</td>\n",
       "      <td>4/20/2013</td>\n",
       "      <td>2013</td>\n",
       "      <td>277</td>\n",
       "      <td>104</td>\n",
       "      <td>83</td>\n",
       "      <td>NaN</td>\n",
       "      <td>NaN</td>\n",
       "      <td>20336</td>\n",
       "      <td>276</td>\n",
       "      <td>20333</td>\n",
       "      <td>103</td>\n",
       "      <td>-1</td>\n",
       "      <td>-1</td>\n",
       "      <td>20343</td>\n",
       "      <td>82</td>\n",
       "      <td>-1</td>\n",
       "      <td>4</td>\n",
       "      <td>1</td>\n",
       "      <td>0</td>\n",
       "      <td>0</td>\n",
       "      <td>20130420</td>\n",
       "    </tr>\n",
       "  </tbody>\n",
       "</table>\n",
       "</div>"
      ],
      "text/plain": [
       "   MatcH_id  Over_id  Ball_id  Innings_No Team_Batting Team_Bowling  \\\n",
       "0    598028       15        6           1            5            2   \n",
       "\n",
       "   Striker_Batting_Position Extra_Type  Runs_Scored  Extra_runs  Wides  \\\n",
       "0                       6.0  No Extras            4           0      0   \n",
       "\n",
       "   Legbyes  Byes  Noballs  Penalty  Bowler_Extras        Out_type  Caught  \\\n",
       "0        0     0        0        0              0  Not Applicable       0   \n",
       "\n",
       "   Bowled  Run_out  LBW  Retired_hurt  Stumped  caught_and_bowled  hit_wicket  \\\n",
       "0       0        0    0             0        0                  0           0   \n",
       "\n",
       "   ObstructingFeild  Bowler_Wicket Match_Date  Season  Striker  Non_Striker  \\\n",
       "0                 0              0  4/20/2013    2013      277          104   \n",
       "\n",
       "   Bowler  Player_Out  Fielders  Striker_match_SK  StrikerSK  \\\n",
       "0      83         NaN       NaN             20336        276   \n",
       "\n",
       "   NonStriker_match_SK  NONStriker_SK  Fielder_match_SK  Fielder_SK  \\\n",
       "0                20333            103                -1          -1   \n",
       "\n",
       "   Bowler_match_SK  BOWLER_SK  PlayerOut_match_SK  BattingTeam_SK  \\\n",
       "0            20343         82                  -1               4   \n",
       "\n",
       "   BowlingTeam_SK  Keeper_Catch  Player_out_sk  MatchDateSK  \n",
       "0               1             0              0     20130420  "
      ]
     },
     "execution_count": 295,
     "metadata": {},
     "output_type": "execute_result"
    }
   ],
   "source": [
    "Ball_by_ball.head(1)"
   ]
  },
  {
   "cell_type": "code",
   "execution_count": 296,
   "metadata": {},
   "outputs": [
    {
     "data": {
      "text/html": [
       "<div>\n",
       "<style scoped>\n",
       "    .dataframe tbody tr th:only-of-type {\n",
       "        vertical-align: middle;\n",
       "    }\n",
       "\n",
       "    .dataframe tbody tr th {\n",
       "        vertical-align: top;\n",
       "    }\n",
       "\n",
       "    .dataframe thead th {\n",
       "        text-align: right;\n",
       "    }\n",
       "</style>\n",
       "<table border=\"1\" class=\"dataframe\">\n",
       "  <thead>\n",
       "    <tr style=\"text-align: right;\">\n",
       "      <th></th>\n",
       "      <th>Match_SK</th>\n",
       "      <th>match_id</th>\n",
       "      <th>Team1</th>\n",
       "      <th>Team2</th>\n",
       "      <th>match_date</th>\n",
       "      <th>Season_Year</th>\n",
       "      <th>Venue_Name</th>\n",
       "      <th>City_Name</th>\n",
       "      <th>Country_Name</th>\n",
       "      <th>Toss_Winner</th>\n",
       "      <th>match_winner</th>\n",
       "      <th>Toss_Name</th>\n",
       "      <th>Win_Type</th>\n",
       "      <th>Outcome_Type</th>\n",
       "      <th>ManOfMach</th>\n",
       "      <th>Win_Margin</th>\n",
       "      <th>Country_id</th>\n",
       "    </tr>\n",
       "  </thead>\n",
       "  <tbody>\n",
       "    <tr>\n",
       "      <th>0</th>\n",
       "      <td>0</td>\n",
       "      <td>335987</td>\n",
       "      <td>Royal Challengers Bangalore</td>\n",
       "      <td>Kolkata Knight Riders</td>\n",
       "      <td>4/18/2008</td>\n",
       "      <td>2008</td>\n",
       "      <td>M Chinnaswamy Stadium</td>\n",
       "      <td>Bangalore</td>\n",
       "      <td>India</td>\n",
       "      <td>Royal Challengers Bangalore</td>\n",
       "      <td>Kolkata Knight Riders</td>\n",
       "      <td>field</td>\n",
       "      <td>runs</td>\n",
       "      <td>Result</td>\n",
       "      <td>BB McCullum</td>\n",
       "      <td>140.0</td>\n",
       "      <td>1</td>\n",
       "    </tr>\n",
       "  </tbody>\n",
       "</table>\n",
       "</div>"
      ],
      "text/plain": [
       "   Match_SK  match_id                        Team1                  Team2  \\\n",
       "0         0    335987  Royal Challengers Bangalore  Kolkata Knight Riders   \n",
       "\n",
       "  match_date  Season_Year             Venue_Name  City_Name Country_Name  \\\n",
       "0  4/18/2008         2008  M Chinnaswamy Stadium  Bangalore        India   \n",
       "\n",
       "                   Toss_Winner           match_winner Toss_Name Win_Type  \\\n",
       "0  Royal Challengers Bangalore  Kolkata Knight Riders     field     runs   \n",
       "\n",
       "  Outcome_Type    ManOfMach  Win_Margin  Country_id  \n",
       "0       Result  BB McCullum       140.0           1  "
      ]
     },
     "execution_count": 296,
     "metadata": {},
     "output_type": "execute_result"
    }
   ],
   "source": [
    "Match.head(1)"
   ]
  },
  {
   "cell_type": "code",
   "execution_count": 297,
   "metadata": {},
   "outputs": [
    {
     "data": {
      "text/html": [
       "<div>\n",
       "<style scoped>\n",
       "    .dataframe tbody tr th:only-of-type {\n",
       "        vertical-align: middle;\n",
       "    }\n",
       "\n",
       "    .dataframe tbody tr th {\n",
       "        vertical-align: top;\n",
       "    }\n",
       "\n",
       "    .dataframe thead th {\n",
       "        text-align: right;\n",
       "    }\n",
       "</style>\n",
       "<table border=\"1\" class=\"dataframe\">\n",
       "  <thead>\n",
       "    <tr style=\"text-align: right;\">\n",
       "      <th></th>\n",
       "      <th>PLAYER_SK</th>\n",
       "      <th>Player_Id</th>\n",
       "      <th>Player_Name</th>\n",
       "      <th>DOB</th>\n",
       "      <th>Batting_hand</th>\n",
       "      <th>Bowling_skill</th>\n",
       "      <th>Country_Name</th>\n",
       "    </tr>\n",
       "  </thead>\n",
       "  <tbody>\n",
       "    <tr>\n",
       "      <th>0</th>\n",
       "      <td>0</td>\n",
       "      <td>1</td>\n",
       "      <td>SC Ganguly</td>\n",
       "      <td>7/8/1972</td>\n",
       "      <td>Left-hand bat</td>\n",
       "      <td>Right-arm medium</td>\n",
       "      <td>India</td>\n",
       "    </tr>\n",
       "  </tbody>\n",
       "</table>\n",
       "</div>"
      ],
      "text/plain": [
       "   PLAYER_SK  Player_Id Player_Name       DOB   Batting_hand  \\\n",
       "0          0          1  SC Ganguly  7/8/1972  Left-hand bat   \n",
       "\n",
       "      Bowling_skill Country_Name  \n",
       "0  Right-arm medium        India  "
      ]
     },
     "execution_count": 297,
     "metadata": {},
     "output_type": "execute_result"
    }
   ],
   "source": [
    "Player.head(1)"
   ]
  },
  {
   "cell_type": "code",
   "execution_count": 298,
   "metadata": {},
   "outputs": [
    {
     "data": {
      "text/html": [
       "<div>\n",
       "<style scoped>\n",
       "    .dataframe tbody tr th:only-of-type {\n",
       "        vertical-align: middle;\n",
       "    }\n",
       "\n",
       "    .dataframe tbody tr th {\n",
       "        vertical-align: top;\n",
       "    }\n",
       "\n",
       "    .dataframe thead th {\n",
       "        text-align: right;\n",
       "    }\n",
       "</style>\n",
       "<table border=\"1\" class=\"dataframe\">\n",
       "  <thead>\n",
       "    <tr style=\"text-align: right;\">\n",
       "      <th></th>\n",
       "      <th>Player_match_SK</th>\n",
       "      <th>PlayerMatch_key</th>\n",
       "      <th>Match_Id</th>\n",
       "      <th>Player_Id</th>\n",
       "      <th>Player_Name</th>\n",
       "      <th>DOB</th>\n",
       "      <th>Batting_hand</th>\n",
       "      <th>Bowling_skill</th>\n",
       "      <th>Country_Name</th>\n",
       "      <th>Role_Desc</th>\n",
       "      <th>Player_team</th>\n",
       "      <th>Opposit_Team</th>\n",
       "      <th>Season_year</th>\n",
       "      <th>is_manofThematch</th>\n",
       "      <th>Age_As_on_match</th>\n",
       "      <th>IsPlayers_Team_won</th>\n",
       "      <th>Batting_Status</th>\n",
       "      <th>Bowling_Status</th>\n",
       "      <th>Player_Captain</th>\n",
       "      <th>Opposit_captain</th>\n",
       "      <th>Player_keeper</th>\n",
       "      <th>Opposit_keeper</th>\n",
       "    </tr>\n",
       "  </thead>\n",
       "  <tbody>\n",
       "    <tr>\n",
       "      <th>0</th>\n",
       "      <td>-1</td>\n",
       "      <td>-1.0</td>\n",
       "      <td>-1</td>\n",
       "      <td>-1</td>\n",
       "      <td>NaN</td>\n",
       "      <td>NaN</td>\n",
       "      <td>NaN</td>\n",
       "      <td>NaN</td>\n",
       "      <td>NaN</td>\n",
       "      <td>NaN</td>\n",
       "      <td>NaN</td>\n",
       "      <td>NaN</td>\n",
       "      <td>NaN</td>\n",
       "      <td>NaN</td>\n",
       "      <td>NaN</td>\n",
       "      <td>NaN</td>\n",
       "      <td>NaN</td>\n",
       "      <td>NaN</td>\n",
       "      <td>NaN</td>\n",
       "      <td>NaN</td>\n",
       "      <td>NaN</td>\n",
       "      <td>NaN</td>\n",
       "    </tr>\n",
       "  </tbody>\n",
       "</table>\n",
       "</div>"
      ],
      "text/plain": [
       "   Player_match_SK  PlayerMatch_key  Match_Id  Player_Id Player_Name  DOB  \\\n",
       "0               -1             -1.0        -1         -1         NaN  NaN   \n",
       "\n",
       "  Batting_hand Bowling_skill Country_Name Role_Desc Player_team Opposit_Team  \\\n",
       "0          NaN           NaN          NaN       NaN         NaN          NaN   \n",
       "\n",
       "   Season_year  is_manofThematch  Age_As_on_match  IsPlayers_Team_won  \\\n",
       "0          NaN               NaN              NaN                 NaN   \n",
       "\n",
       "   Batting_Status  Bowling_Status Player_Captain Opposit_captain  \\\n",
       "0             NaN             NaN            NaN             NaN   \n",
       "\n",
       "  Player_keeper Opposit_keeper  \n",
       "0           NaN            NaN  "
      ]
     },
     "execution_count": 298,
     "metadata": {},
     "output_type": "execute_result"
    }
   ],
   "source": [
    "Player_match.head(1)"
   ]
  },
  {
   "cell_type": "code",
   "execution_count": null,
   "metadata": {},
   "outputs": [],
   "source": []
  },
  {
   "cell_type": "markdown",
   "metadata": {},
   "source": [
    "# Initial Data Cleaning"
   ]
  },
  {
   "cell_type": "markdown",
   "metadata": {},
   "source": [
    "## i. Ball_by_ball dataset cleaning"
   ]
  },
  {
   "cell_type": "code",
   "execution_count": 299,
   "metadata": {},
   "outputs": [],
   "source": [
    "aBall_by_ball = Ball_by_ball.copy()"
   ]
  },
  {
   "cell_type": "markdown",
   "metadata": {},
   "source": [
    "Dropping unwanted columns"
   ]
  },
  {
   "cell_type": "code",
   "execution_count": 300,
   "metadata": {},
   "outputs": [],
   "source": [
    "aBall_by_ball.drop(columns = ['Extra_Type','Out_type','Match_Date','Season','Striker_match_SK','StrikerSK','NonStriker_match_SK',\n",
    "                              'NONStriker_SK','Fielder_match_SK','Fielder_SK','Bowler_match_SK','BOWLER_SK','PlayerOut_match_SK',\n",
    "                              'BattingTeam_SK','BowlingTeam_SK','Keeper_Catch','Player_out_sk','MatchDateSK'],inplace = True)"
   ]
  },
  {
   "cell_type": "markdown",
   "metadata": {},
   "source": [
    "Replacing Team IDs with Team Names"
   ]
  },
  {
   "cell_type": "code",
   "execution_count": 301,
   "metadata": {},
   "outputs": [],
   "source": [
    "aBall_by_ball.Team_Bowling.replace({'Gujarat Lions':'13','Kolkata Knight Riders':'1','Royal Challengers Bangalore':'2',\n",
    "                               \t'Kings XI Punjab':'4','Delhi Daredevils':'6','Rising Pune Supergiants':'12','Sunrisers Hyderabad':'11',\n",
    "                               \t'Mumbai Indians':'7'},inplace = True)\n",
    "\n",
    "aBall_by_ball.Team_Batting.replace({'Gujarat Lions':'13','Kolkata Knight Riders':'1','Royal Challengers Bangalore':'2',\n",
    "                               \t'Kings XI Punjab':'4','Delhi Daredevils':'6','Rising Pune Supergiants':'12','Sunrisers Hyderabad':'11',\n",
    "                               \t'Mumbai Indians':'7'},inplace = True)\n",
    "\n",
    "aBall_by_ball.Team_Bowling.replace({'1':'Kolkata Knight Riders','2':'Royal Challengers Bangalore','3':'Chennai Super Kings','4' :'Kings XI Punjab',\n",
    "                                '5':'Rajasthan Royals','6':'Delhi Daredevils','7' :'Mumbai Indians', '8':'Deccan Chargers','9' :'Kochi Tuskers Kerala',\n",
    "                               \t'10':'Pune Warriors','11' :'Sunrisers Hyderabad','12' :'Rising Pune Supergiants','13' :'Gujarat Lions'},inplace = True)\n",
    "\n",
    "aBall_by_ball.Team_Batting.replace({'1':'Kolkata Knight Riders','2':'Royal Challengers Bangalore','3':'Chennai Super Kings','4' :'Kings XI Punjab',\n",
    "                                '5':'Rajasthan Royals','6':'Delhi Daredevils','7' :'Mumbai Indians', '8':'Deccan Chargers','9' :'Kochi Tuskers Kerala',\n",
    "                               \t'10':'Pune Warriors','11' :'Sunrisers Hyderabad','12' :'Rising Pune Supergiants','13' :'Gujarat Lions'},inplace = True)\n"
   ]
  },
  {
   "cell_type": "markdown",
   "metadata": {},
   "source": [
    "Replacing NaNs with 0"
   ]
  },
  {
   "cell_type": "code",
   "execution_count": 302,
   "metadata": {},
   "outputs": [],
   "source": [
    "aBall_by_ball.Striker_Batting_Position.replace({np.nan:'0'},inplace=True)\n",
    "aBall_by_ball.Player_Out.replace({np.NaN:'0'}, inplace = True)\n",
    "aBall_by_ball.Fielders.replace({np.NaN:'0'}, inplace = True)"
   ]
  },
  {
   "cell_type": "code",
   "execution_count": 303,
   "metadata": {},
   "outputs": [],
   "source": [
    "aBall_by_ball.rename(columns = {'MatcH_id':'Match_Id'}, inplace = True)"
   ]
  },
  {
   "cell_type": "markdown",
   "metadata": {},
   "source": [
    "## ii. Player_match cleaning"
   ]
  },
  {
   "cell_type": "code",
   "execution_count": 304,
   "metadata": {},
   "outputs": [],
   "source": [
    "aplayer_match = Player_match.copy()"
   ]
  },
  {
   "cell_type": "markdown",
   "metadata": {},
   "source": [
    "Removing unwanted columns"
   ]
  },
  {
   "cell_type": "code",
   "execution_count": 305,
   "metadata": {},
   "outputs": [],
   "source": [
    "aplayer_match.drop(columns = ['PlayerMatch_key','Player_Captain','Opposit_captain','Player_keeper','Opposit_keeper',\n",
    "                              'Bowling_Status','Batting_Status'],inplace = True)"
   ]
  },
  {
   "cell_type": "markdown",
   "metadata": {},
   "source": [
    "Replacing right handed batsman with 1 and left handed batsman with 0s"
   ]
  },
  {
   "cell_type": "code",
   "execution_count": 306,
   "metadata": {},
   "outputs": [],
   "source": [
    "aplayer_match.Batting_hand.replace({'Right-hand bat':1,'Left-hand bat':0,'\\xa0Right-hand bat':1,'\\xa0Left-hand bat':0,\n",
    "                                    'Right-handed':1}, inplace = True)"
   ]
  },
  {
   "cell_type": "markdown",
   "metadata": {},
   "source": [
    "cleaning the data"
   ]
  },
  {
   "cell_type": "code",
   "execution_count": 307,
   "metadata": {},
   "outputs": [],
   "source": [
    "aplayer_match.Bowling_skill.replace({'Right-arm medium-fast':'Right-arm fast-medium','Left-arm medium-fast':'Left-arm fast-medium',\n",
    "                                       '\\xa0Left-arm fast':'Right-arm fast','\\xa0Right-arm fast-medium':'Right-arm fast-medium',\n",
    "                                       '\\xa0Right-arm medium-fast':'Right-arm fast-medium','\\xa0Right-arm offbreak':'Right-arm offbreak',\n",
    "                                       '\\xa0Legbreak':'Legbreak'}, inplace = True)"
   ]
  },
  {
   "cell_type": "markdown",
   "metadata": {},
   "source": [
    "Removing first row in the dataset which contains null values"
   ]
  },
  {
   "cell_type": "code",
   "execution_count": 308,
   "metadata": {},
   "outputs": [],
   "source": [
    "aplayer_match.columns = aplayer_match.iloc[0]\n",
    "aplayer_match = aplayer_match.reindex(aplayer_match.index.drop(0)).reset_index(drop=True)\n",
    "aplayer_match.columns.name = None"
   ]
  },
  {
   "cell_type": "code",
   "execution_count": 309,
   "metadata": {},
   "outputs": [],
   "source": [
    "columns = Player_match.columns\n",
    "columns = columns.drop(['PlayerMatch_key','Batting_Status','Bowling_Status', 'Player_Captain', 'Opposit_captain',\n",
    "       'Player_keeper', 'Opposit_keeper'])"
   ]
  },
  {
   "cell_type": "code",
   "execution_count": 310,
   "metadata": {},
   "outputs": [],
   "source": [
    "aplayer_match.columns = columns"
   ]
  },
  {
   "cell_type": "code",
   "execution_count": 311,
   "metadata": {},
   "outputs": [],
   "source": [
    "aplayer_match.rename(columns = {'match_id':'Match_Id'}, inplace = True)"
   ]
  },
  {
   "cell_type": "markdown",
   "metadata": {},
   "source": [
    "## iii. Match Cleaning"
   ]
  },
  {
   "cell_type": "code",
   "execution_count": 312,
   "metadata": {},
   "outputs": [],
   "source": [
    "aMatch = Match.copy()\n",
    "\n",
    "#Replacing fielding with 0s and batting with 1s for Toss_Name column\n",
    "aMatch.Toss_Name.replace({'field':0, 'Field':0,'bat':1, 'Bat':1},inplace=True)\n",
    "\n",
    "aMatch.Win_Type.replace({'run':1, 'runs':1,'wickets':0, 'Tie':3,'NO Result':3},inplace=True)\n",
    "\n",
    "#Defining Win as 1 if Win_type is 1 or 0 so that we can eliminate matches which are tied, cancelled etc which has win_type = 3\n",
    "aMatch['Win']= ((aMatch.Win_Type == 1) | (aMatch.Win_Type == 0))*1\n",
    "\n",
    "aMatch.drop(['Outcome_Type','ManOfMach','Venue_Name'],axis=1,inplace=True)\n",
    "\n",
    "# function to find the team's home city based on its name\n",
    "def home(x):\n",
    "    if x.startswith('Kol'):\n",
    "        return ('Kolkata')\n",
    "    elif x.startswith('Roy'):\n",
    "        return ('Bangalore')\n",
    "    elif x.startswith('Che'):\n",
    "        return ('Chennai')\n",
    "    elif x.startswith('Kin'):\n",
    "        return ('Mohali')\n",
    "    elif x.startswith('Raj'):\n",
    "        return ('Jaipur')\n",
    "    elif x.startswith('Del'):\n",
    "        return ('Delhi')\n",
    "    elif x.startswith('Mum'):\n",
    "        return ('Mumbai')\n",
    "    elif x.startswith('Dec'):\n",
    "        return ('Hyderabad (Deccan)')\n",
    "    elif x.startswith('Koc'):\n",
    "        return ('Kochi')\n",
    "    elif x.startswith('Pune'):\n",
    "        return ('Pune')\n",
    "    elif x.startswith('Sun'):\n",
    "        return ('Hyderabad')\n",
    "    elif x.startswith('Ris'):\n",
    "        return ('Pune')\n",
    "    elif x.startswith('tie'):\n",
    "        return ('tie')\n",
    "    elif x.startswith('nan'):\n",
    "        return ('na')\n",
    "    elif x.startswith ('aba'):\n",
    "        return ('na')\n",
    "    else:\n",
    "        return ('Ahmedabad')"
   ]
  },
  {
   "cell_type": "code",
   "execution_count": 313,
   "metadata": {},
   "outputs": [],
   "source": [
    "# remove tied and no result records\n",
    "aMatch = aMatch[aMatch.Win_Type != 3]"
   ]
  },
  {
   "cell_type": "markdown",
   "metadata": {},
   "source": [
    "# Insight 1:"
   ]
  },
  {
   "cell_type": "markdown",
   "metadata": {},
   "source": [
    "## Summary of the finding:\n",
    "\n",
    "## Home team has 60% higher chances of winning the game"
   ]
  },
  {
   "cell_type": "markdown",
   "metadata": {},
   "source": [
    "### Data Preparation"
   ]
  },
  {
   "cell_type": "code",
   "execution_count": 314,
   "metadata": {},
   "outputs": [],
   "source": [
    "aMatch1 = aMatch.copy()\n",
    "# removing nan records\n",
    "aMatch1 = aMatch[(aMatch.Toss_Name ==0) | (aMatch.Toss_Name==1)]\n",
    "aMatch1 = aMatch[(aMatch.Win_Type==1)|(aMatch.Win_Type==0)]"
   ]
  },
  {
   "cell_type": "markdown",
   "metadata": {},
   "source": [
    "creating columns for each team cities"
   ]
  },
  {
   "cell_type": "code",
   "execution_count": 315,
   "metadata": {},
   "outputs": [],
   "source": [
    "aMatch1['team1_city'] = aMatch1.Team1.apply(home)\n",
    "aMatch1['team2_city'] = aMatch1.Team2.apply(home)"
   ]
  },
  {
   "cell_type": "markdown",
   "metadata": {},
   "source": [
    "creating new columns \n",
    "1) ishome_play which is 1 if the match is played at one of the team's home  ground\n",
    "2) home_win which is 1 if hometeam wins the match\n",
    "3) toss&win is 1 if the same team has won both the toss and the match"
   ]
  },
  {
   "cell_type": "code",
   "execution_count": 316,
   "metadata": {},
   "outputs": [],
   "source": [
    "aMatch1['ishome_play'] = ((aMatch1.team1_city==aMatch1.City_Name)|(aMatch1.team2_city==aMatch1.City_Name))*1\n",
    "aMatch1['home_win']= ((aMatch1.match_winner.apply(home))==aMatch1.City_Name)*1\n",
    "aMatch1['toss&win']=(aMatch1.match_winner==aMatch1.Toss_Winner)*1"
   ]
  },
  {
   "cell_type": "markdown",
   "metadata": {},
   "source": [
    "Dropping unwanted columns"
   ]
  },
  {
   "cell_type": "code",
   "execution_count": 317,
   "metadata": {},
   "outputs": [],
   "source": [
    "aMatch1.drop(columns=['Season_Year','Country_Name','Match_SK','match_id', 'Team1', 'Team2', 'City_Name','match_date','Win_Type', 'Win_Margin', 'Toss_Winner',\n",
    "       'match_winner', 'team1_city', 'team2_city', ],axis=1,inplace=True)"
   ]
  },
  {
   "cell_type": "markdown",
   "metadata": {},
   "source": [
    "### Machine Learning: Clustering"
   ]
  },
  {
   "cell_type": "code",
   "execution_count": 318,
   "metadata": {},
   "outputs": [
    {
     "data": {
      "text/html": [
       "<div>\n",
       "<style scoped>\n",
       "    .dataframe tbody tr th:only-of-type {\n",
       "        vertical-align: middle;\n",
       "    }\n",
       "\n",
       "    .dataframe tbody tr th {\n",
       "        vertical-align: top;\n",
       "    }\n",
       "\n",
       "    .dataframe thead th {\n",
       "        text-align: right;\n",
       "    }\n",
       "</style>\n",
       "<table border=\"1\" class=\"dataframe\">\n",
       "  <thead>\n",
       "    <tr style=\"text-align: right;\">\n",
       "      <th></th>\n",
       "      <th>Toss_Name</th>\n",
       "      <th>Country_id</th>\n",
       "      <th>Win</th>\n",
       "      <th>ishome_play</th>\n",
       "      <th>home_win</th>\n",
       "      <th>toss&amp;win</th>\n",
       "    </tr>\n",
       "    <tr>\n",
       "      <th>cluster</th>\n",
       "      <th></th>\n",
       "      <th></th>\n",
       "      <th></th>\n",
       "      <th></th>\n",
       "      <th></th>\n",
       "      <th></th>\n",
       "    </tr>\n",
       "  </thead>\n",
       "  <tbody>\n",
       "    <tr>\n",
       "      <th>0</th>\n",
       "      <td>0.431267</td>\n",
       "      <td>1.000000</td>\n",
       "      <td>1.0</td>\n",
       "      <td>1.0</td>\n",
       "      <td>0.58221</td>\n",
       "      <td>0.520216</td>\n",
       "    </tr>\n",
       "    <tr>\n",
       "      <th>1</th>\n",
       "      <td>0.427451</td>\n",
       "      <td>1.368627</td>\n",
       "      <td>1.0</td>\n",
       "      <td>0.0</td>\n",
       "      <td>0.00000</td>\n",
       "      <td>0.501961</td>\n",
       "    </tr>\n",
       "  </tbody>\n",
       "</table>\n",
       "</div>"
      ],
      "text/plain": [
       "         Toss_Name  Country_id  Win  ishome_play  home_win  toss&win\n",
       "cluster                                                             \n",
       "0         0.431267    1.000000  1.0          1.0   0.58221  0.520216\n",
       "1         0.427451    1.368627  1.0          0.0   0.00000  0.501961"
      ]
     },
     "execution_count": 318,
     "metadata": {},
     "output_type": "execute_result"
    }
   ],
   "source": [
    "from sklearn.cluster import KMeans\n",
    "cl = KMeans(n_clusters=2)\n",
    "cl.fit(aMatch1)\n",
    "cl.labels_\n",
    "df4 = aMatch1.copy()\n",
    "df4['cluster'] = cl.labels_\n",
    "df4.groupby('cluster').mean()"
   ]
  },
  {
   "cell_type": "markdown",
   "metadata": {},
   "source": [
    "### Validity of the Finding"
   ]
  },
  {
   "cell_type": "code",
   "execution_count": 319,
   "metadata": {},
   "outputs": [
    {
     "data": {
      "text/plain": [
       "<seaborn.axisgrid.FacetGrid at 0x2574b60dcf8>"
      ]
     },
     "execution_count": 319,
     "metadata": {},
     "output_type": "execute_result"
    },
    {
     "data": {
      "image/png": "[encoded data removed]",
      "text/plain": [
       "<Figure size 360x360 with 1 Axes>"
      ]
     },
     "metadata": {},
     "output_type": "display_data"
    }
   ],
   "source": [
    "sns.catplot(x='ishome_play',y='home_win',data=df4,kind='bar',\n",
    "           aspect=1)"
   ]
  },
  {
   "cell_type": "markdown",
   "metadata": {},
   "source": [
    "'is home_play' column on x axis says if the match is played on the home ground and the 'home_win' on y axis shows whether the match played at home ground was won by the home team or not?\n",
    "\n",
    "If 'ishome_play is 1(meaning that it is played on homeground),then home team wins approximately 60% of the time."
   ]
  },
  {
   "cell_type": "markdown",
   "metadata": {},
   "source": [
    "## Managerial/ Stakeholder's insights\n",
    "\n",
    "## The team playing against an opponent team that is playing on its home ground, should prepare harder and try to set higher targets as the chances of winning for the opponent home team are higher upto 60%."
   ]
  },
  {
   "cell_type": "markdown",
   "metadata": {},
   "source": [
    "# Insight 2:\n",
    "\n",
    "### Summary of the Finding:\n",
    "\n",
    "### When we compared Local players performance vs International player's performance and Captain vs Non-Captain based on number of Runs Scored, we found that Local Captains are performing better compared to international Captains and  it is opposite in Non-Captains category, where international Non-Captain players are scoring more compared to local Non-Captain players\n"
   ]
  },
  {
   "cell_type": "markdown",
   "metadata": {},
   "source": [
    "IPL contains players from different countries. Hence, by local we mean Indian players and International meaning players from other countries."
   ]
  },
  {
   "cell_type": "markdown",
   "metadata": {},
   "source": [
    "### Data Preparation"
   ]
  },
  {
   "cell_type": "markdown",
   "metadata": {},
   "source": [
    "#### Creating new tables \n",
    "df1: Has Runs Scored information for each batsman \n",
    "\n",
    "df2: Has information about no of wickets taken and extra runs given by each Bowler\n",
    "\n",
    "df3: Has player's info like player's role description in each match, is th eplayer man of the match, player's age as on match etc.,"
   ]
  },
  {
   "cell_type": "code",
   "execution_count": 320,
   "metadata": {
    "scrolled": true
   },
   "outputs": [],
   "source": [
    "df1 = aBall_by_ball.groupby(['Match_Id','Striker']).agg({'Runs_Scored':'sum'}).reset_index()\n",
    "df2 = aBall_by_ball.groupby(['Match_Id','Bowler']).agg({'Bowler_Wicket':'sum','Bowler_Extras':'sum'}).reset_index()\n",
    "df3 = aplayer_match[['Match_Id','Player_Id','Player_Name','Country_Name','Role_Desc','is_manofThematch','Age_As_on_match',\n",
    "                     'IsPlayers_Team_won']]"
   ]
  },
  {
   "cell_type": "markdown",
   "metadata": {},
   "source": [
    "Merging the above files to form a single file by matching on 'match id' and 'player's id'"
   ]
  },
  {
   "cell_type": "code",
   "execution_count": 321,
   "metadata": {},
   "outputs": [],
   "source": [
    "p1 = df3.merge(df1, how = 'right', left_on = ['Match_Id','Player_Id'], right_on = ['Match_Id','Striker'])\n",
    "p2 = df3.merge(df2, how = 'right', left_on = ['Match_Id','Player_Id'], right_on = ['Match_Id','Bowler'])"
   ]
  },
  {
   "cell_type": "code",
   "execution_count": 322,
   "metadata": {},
   "outputs": [],
   "source": [
    "p1['Bowler_Wicket'] = 0\n",
    "p1['Bowler_Extras'] = 0\n",
    "p2['Runs_Scored'] = 0"
   ]
  },
  {
   "cell_type": "code",
   "execution_count": 323,
   "metadata": {},
   "outputs": [],
   "source": [
    "p3 = pd.concat([p1,p2], ignore_index = True)"
   ]
  },
  {
   "cell_type": "markdown",
   "metadata": {},
   "source": [
    "Creating a new column is_captain which is 1 if player's description contain 'captain' else 0"
   ]
  },
  {
   "cell_type": "code",
   "execution_count": 324,
   "metadata": {},
   "outputs": [],
   "source": [
    "p3['is_Captain'] = ((p3['Role_Desc']=='Captain') | (p3['Role_Desc']=='CaptainKeeper'))*1"
   ]
  },
  {
   "cell_type": "markdown",
   "metadata": {},
   "source": [
    "Creating a new table by grouping by each country, each player, each match and by captain"
   ]
  },
  {
   "cell_type": "code",
   "execution_count": 325,
   "metadata": {},
   "outputs": [],
   "source": [
    "p4 = p3.groupby(['Country_Name','Player_Name','Match_Id','is_Captain']).agg({'is_manofThematch':'mean','Runs_Scored':'sum','Bowler_Wicket':'sum',\n",
    "                                                                  'Bowler_Extras':'sum'}).reset_index()"
   ]
  },
  {
   "cell_type": "markdown",
   "metadata": {},
   "source": [
    "creating a new column is_local which is 1 if player's country is india else 0"
   ]
  },
  {
   "cell_type": "code",
   "execution_count": 326,
   "metadata": {},
   "outputs": [],
   "source": [
    "p4['is_local'] = (p4['Country_Name'] == 'India')*1"
   ]
  },
  {
   "cell_type": "code",
   "execution_count": 327,
   "metadata": {},
   "outputs": [],
   "source": [
    "p5 = p4.drop(columns = ['Country_Name','Player_Name','Match_Id'])"
   ]
  },
  {
   "cell_type": "markdown",
   "metadata": {},
   "source": [
    "### Machine Learning: Regression Tree"
   ]
  },
  {
   "cell_type": "code",
   "execution_count": 328,
   "metadata": {},
   "outputs": [],
   "source": [
    "X = p4.drop(columns = ['Country_Name','Player_Name','Match_Id','Runs_Scored','is_manofThematch'])\n",
    "Y = p4.Runs_Scored"
   ]
  },
  {
   "cell_type": "code",
   "execution_count": 329,
   "metadata": {},
   "outputs": [
    {
     "data": {
      "image/png": "[encoded data removed]",
      "text/plain": [
       "<IPython.core.display.Image object>"
      ]
     },
     "execution_count": 329,
     "metadata": {},
     "output_type": "execute_result"
    }
   ],
   "source": [
    "class_tree = tree.DecisionTreeRegressor(max_depth = 2)\n",
    "\n",
    "class_tree.fit(X,Y)\n",
    "\n",
    "class_tree_feature_names = list(X.columns)\n",
    "class_tree_target_names = np.array(Y.unique(),dtype=np.str) \n",
    "tree.export_graphviz(class_tree, out_file='tree.dot', \n",
    "    feature_names=class_tree_feature_names, class_names=class_tree_target_names,\n",
    "    filled=True)  \n",
    "graph = pydotplus.graph_from_dot_file('tree.dot')\n",
    "Image(graph.create_png())"
   ]
  },
  {
   "cell_type": "markdown",
   "metadata": {},
   "source": [
    "In the above regression tree we tried to predict the No of Runs scored by keeping all the variables, but no meaningful output came. So we removed columns like Bowler_Wicket and Bowler_Extras and re run the regression."
   ]
  },
  {
   "cell_type": "code",
   "execution_count": 254,
   "metadata": {},
   "outputs": [],
   "source": [
    "X = p4.drop(columns = ['Country_Name','Player_Name','Match_Id','Runs_Scored','is_manofThematch','Bowler_Wicket','Bowler_Extras'])\n",
    "Y = p4.Runs_Scored"
   ]
  },
  {
   "cell_type": "code",
   "execution_count": 255,
   "metadata": {},
   "outputs": [
    {
     "data": {
      "image/png": "[encoded data removed]",
      "text/plain": [
       "<IPython.core.display.Image object>"
      ]
     },
     "execution_count": 255,
     "metadata": {},
     "output_type": "execute_result"
    }
   ],
   "source": [
    "class_tree = tree.DecisionTreeRegressor(max_depth = 2)\n",
    "\n",
    "class_tree.fit(X,Y)\n",
    "\n",
    "class_tree_feature_names = list(X.columns)\n",
    "class_tree_target_names = np.array(Y.unique(),dtype=np.str) \n",
    "tree.export_graphviz(class_tree, out_file='tree.dot', \n",
    "    feature_names=class_tree_feature_names, class_names=class_tree_target_names,\n",
    "    filled=True)  \n",
    "graph = pydotplus.graph_from_dot_file('tree.dot')\n",
    "Image(graph.create_png())"
   ]
  },
  {
   "cell_type": "markdown",
   "metadata": {},
   "source": [
    "### Validity of the Finding:"
   ]
  },
  {
   "cell_type": "code",
   "execution_count": 256,
   "metadata": {},
   "outputs": [
    {
     "data": {
      "text/plain": [
       "<seaborn.axisgrid.FacetGrid at 0x2574bd40550>"
      ]
     },
     "execution_count": 256,
     "metadata": {},
     "output_type": "execute_result"
    },
    {
     "data": {
      "image/png": "[encoded data removed]",
      "text/plain": [
       "<Figure size 404.5x360 with 1 Axes>"
      ]
     },
     "metadata": {},
     "output_type": "display_data"
    }
   ],
   "source": [
    "sns.catplot(x = 'is_Captain', y = 'Runs_Scored', hue = 'is_local',data = p4, kind = 'bar')"
   ]
  },
  {
   "cell_type": "markdown",
   "metadata": {},
   "source": [
    "## Managerial Insights\n",
    "\n",
    "## To have a strong batting line up, during the team formation, Franchise Owners should bid for more international players but  the captain made should be an Indian."
   ]
  },
  {
   "cell_type": "markdown",
   "metadata": {},
   "source": [
    "# Insight 3:\n",
    "\n",
    "### Summary of the Finding:\n",
    "\n",
    "## Overall, Captain are better Batsman than they are Bowlers\n"
   ]
  },
  {
   "cell_type": "markdown",
   "metadata": {},
   "source": [
    "### Machine Learning: Clustering"
   ]
  },
  {
   "cell_type": "code",
   "execution_count": 257,
   "metadata": {},
   "outputs": [
    {
     "data": {
      "text/html": [
       "<div>\n",
       "<style scoped>\n",
       "    .dataframe tbody tr th:only-of-type {\n",
       "        vertical-align: middle;\n",
       "    }\n",
       "\n",
       "    .dataframe tbody tr th {\n",
       "        vertical-align: top;\n",
       "    }\n",
       "\n",
       "    .dataframe thead th {\n",
       "        text-align: right;\n",
       "    }\n",
       "</style>\n",
       "<table border=\"1\" class=\"dataframe\">\n",
       "  <thead>\n",
       "    <tr style=\"text-align: right;\">\n",
       "      <th></th>\n",
       "      <th>is_Captain</th>\n",
       "      <th>is_manofThematch</th>\n",
       "      <th>Runs_Scored</th>\n",
       "      <th>Bowler_Wicket</th>\n",
       "      <th>Bowler_Extras</th>\n",
       "      <th>is_local</th>\n",
       "    </tr>\n",
       "    <tr>\n",
       "      <th>cluster</th>\n",
       "      <th></th>\n",
       "      <th></th>\n",
       "      <th></th>\n",
       "      <th></th>\n",
       "      <th></th>\n",
       "      <th></th>\n",
       "    </tr>\n",
       "  </thead>\n",
       "  <tbody>\n",
       "    <tr>\n",
       "      <th>0</th>\n",
       "      <td>0.062378</td>\n",
       "      <td>0.018724</td>\n",
       "      <td>3.229915</td>\n",
       "      <td>0.637818</td>\n",
       "      <td>0.605160</td>\n",
       "      <td>0.659808</td>\n",
       "    </tr>\n",
       "    <tr>\n",
       "      <th>1</th>\n",
       "      <td>0.206804</td>\n",
       "      <td>0.331244</td>\n",
       "      <td>64.122650</td>\n",
       "      <td>0.148612</td>\n",
       "      <td>0.129812</td>\n",
       "      <td>0.525515</td>\n",
       "    </tr>\n",
       "    <tr>\n",
       "      <th>2</th>\n",
       "      <td>0.146825</td>\n",
       "      <td>0.029431</td>\n",
       "      <td>27.310185</td>\n",
       "      <td>0.214286</td>\n",
       "      <td>0.195437</td>\n",
       "      <td>0.603175</td>\n",
       "    </tr>\n",
       "  </tbody>\n",
       "</table>\n",
       "</div>"
      ],
      "text/plain": [
       "         is_Captain  is_manofThematch  Runs_Scored  Bowler_Wicket  \\\n",
       "cluster                                                             \n",
       "0          0.062378          0.018724     3.229915       0.637818   \n",
       "1          0.206804          0.331244    64.122650       0.148612   \n",
       "2          0.146825          0.029431    27.310185       0.214286   \n",
       "\n",
       "         Bowler_Extras  is_local  \n",
       "cluster                           \n",
       "0             0.605160  0.659808  \n",
       "1             0.129812  0.525515  \n",
       "2             0.195437  0.603175  "
      ]
     },
     "execution_count": 257,
     "metadata": {},
     "output_type": "execute_result"
    }
   ],
   "source": [
    "from sklearn.cluster import KMeans\n",
    "cl = KMeans(n_clusters=3)\n",
    "cl.fit(p5)\n",
    "p5['cluster'] = cl.labels_\n",
    "p5.groupby('cluster').mean()"
   ]
  },
  {
   "cell_type": "markdown",
   "metadata": {},
   "source": [
    "### Validity of the Finding:"
   ]
  },
  {
   "cell_type": "code",
   "execution_count": 258,
   "metadata": {},
   "outputs": [
    {
     "data": {
      "text/plain": [
       "<seaborn.axisgrid.FacetGrid at 0x2574b1e0ba8>"
      ]
     },
     "execution_count": 258,
     "metadata": {},
     "output_type": "execute_result"
    },
    {
     "data": {
      "image/png": "[encoded data removed]",
      "text/plain": [
       "<Figure size 360x360 with 1 Axes>"
      ]
     },
     "metadata": {},
     "output_type": "display_data"
    }
   ],
   "source": [
    "sns.catplot(x = 'is_Captain', y = 'Runs_Scored', data = p5, kind = 'bar')"
   ]
  },
  {
   "cell_type": "code",
   "execution_count": 259,
   "metadata": {},
   "outputs": [
    {
     "data": {
      "text/plain": [
       "<seaborn.axisgrid.FacetGrid at 0x2574bdd9198>"
      ]
     },
     "execution_count": 259,
     "metadata": {},
     "output_type": "execute_result"
    },
    {
     "data": {
      "image/png": "[encoded data removed]",
      "text/plain": [
       "<Figure size 360x360 with 1 Axes>"
      ]
     },
     "metadata": {},
     "output_type": "display_data"
    }
   ],
   "source": [
    "sns.catplot(x = 'is_Captain', y = 'Bowler_Wicket', data = p5, kind = 'bar')"
   ]
  },
  {
   "cell_type": "markdown",
   "metadata": {},
   "source": [
    "## Managerial Insights\n",
    "\n",
    "## For decisions related to batting, a captain will be a good decision maker but for bowling related decision making the captain might need more training as it seems they are mostly good at batting and are opposite when it comes to bowling."
   ]
  },
  {
   "cell_type": "markdown",
   "metadata": {},
   "source": [
    "# Insight 4:\n",
    "### Summary of the Finding:\n",
    "\n",
    "## Players with better batting skills has higher chances of becoming Man of the Match compared to the Players with better bowling skills"
   ]
  },
  {
   "cell_type": "markdown",
   "metadata": {},
   "source": [
    "### Data Preparation"
   ]
  },
  {
   "cell_type": "code",
   "execution_count": 277,
   "metadata": {},
   "outputs": [],
   "source": [
    "#making a copy of match dataset\n",
    "aMatch2 = Match.copy()\n",
    "aBall_by_ball1 = Ball_by_ball.copy()\n",
    "aPlayer = Player.copy()\n",
    "#giving numeric values to toss and win type\n",
    "aMatch2.Toss_Name.replace({'field':0, 'Field':0,'bat':1, 'Bat':1},inplace=True)\n",
    "aMatch2.Win_Type.replace({'run':1, 'runs':1,'wickets':0, 'Tie':3,'NO Result':3},inplace=True)"
   ]
  },
  {
   "cell_type": "code",
   "execution_count": 278,
   "metadata": {},
   "outputs": [],
   "source": [
    "aPlayer.replace({'Right-hand bat':1,'Left-hand bat':0,'\\xa0Right-hand bat':1,'\\xa0Left-hand bat':0,'Right-handed':1}, inplace = True)\n",
    "aPlayer['ball_hand']=aPlayer.Bowling_skill\n",
    "aPlayer['ball_type']=aPlayer.Bowling_skill\n",
    "aPlayer.ball_hand.replace({'Slow left-arm orthodox':0, 'Left-arm medium':0, 'Right-arm medium':1,\n",
    "       'Right-arm medium-fast':1, 'Right-arm fast-medium':1,\n",
    "       'Right-arm offbreak':1, 'Legbreak googly':1, 'Legbreak':1,\n",
    "       'Right-arm fast':1, 'Left-arm fast-medium':0, 'Left-arm medium-fast':0,\n",
    "       'Slow left-arm chinaman':0, 'Left-arm fast':0,\n",
    "       '\\xa0Right-arm fast-medium':1, '\\xa0Left-arm fast':0,\n",
    "       '\\xa0Right-arm offbreak':1, '\\xa0Right-arm medium-fast':1,\n",
    "       '\\xa0Legbreak':1, 'Right-arm medium fast':1},inplace = True)\n",
    "\n",
    "aPlayer.ball_type.replace({'Slow left-arm orthodox':0, 'Left-arm medium':1, 'Right-arm medium':1,\n",
    "       'Right-arm medium-fast':1, 'Right-arm fast-medium':1,\n",
    "       'Right-arm offbreak':0, 'Legbreak googly':0, 'Legbreak':0,\n",
    "       'Right-arm fast':1, 'Left-arm fast-medium':1, 'Left-arm medium-fast':1,\n",
    "       'Slow left-arm chinaman':0, 'Left-arm fast':1,\n",
    "       '\\xa0Right-arm fast-medium':1, '\\xa0Left-arm fast':1,\n",
    "       '\\xa0Right-arm offbreak':0, '\\xa0Right-arm medium-fast':1,\n",
    "       '\\xa0Legbreak':0, 'Right-arm medium fast':1},inplace = True)\n",
    "\n",
    "aPlayer.drop(columns='Bowling_skill',inplace=True)"
   ]
  },
  {
   "cell_type": "code",
   "execution_count": 279,
   "metadata": {},
   "outputs": [],
   "source": [
    "man = aMatch2.merge(aPlayer,how='left',left_on='ManOfMach',right_on='Player_Name')\n",
    "tbat=aBall_by_ball1.groupby(['MatcH_id','Striker']).agg({'Runs_Scored':'sum'}).reset_index()\n",
    "tball=aBall_by_ball1.groupby(['MatcH_id','Bowler']).agg({'Bowler_Wicket':'sum'}).reset_index()"
   ]
  },
  {
   "cell_type": "code",
   "execution_count": 280,
   "metadata": {},
   "outputs": [],
   "source": [
    "stat1 = tbat.merge(man,how='left',left_on=['MatcH_id','Striker'],right_on=['match_id','Player_Id'])\n",
    "stat2 = tball.merge(man,how='left',left_on=['MatcH_id','Bowler'],right_on=['match_id','Player_Id'])"
   ]
  },
  {
   "cell_type": "code",
   "execution_count": 281,
   "metadata": {},
   "outputs": [],
   "source": [
    "stat1['man_of_match']=(stat1.Striker==stat1.Player_Id)*1\n",
    "# In general, If the Runs scored are greaer than 70 then the player is considered as batsman\n",
    "stat1['isbatsman']= (stat1.Runs_Scored>70)*1"
   ]
  },
  {
   "cell_type": "code",
   "execution_count": 282,
   "metadata": {},
   "outputs": [],
   "source": [
    "stat2['man_of_match']=(stat2.Bowler==stat2.Player_Id)*1\n",
    "#In general, if the no of wickets taken are greater than 2 then the player is considered as bowler\n",
    "stat2['isbowler']= (stat2.Bowler_Wicket>2)*1"
   ]
  },
  {
   "cell_type": "code",
   "execution_count": 283,
   "metadata": {},
   "outputs": [],
   "source": [
    "stat1.drop(['Match_SK', 'match_id', 'Team1',\n",
    "       'Team2', 'match_date', 'Season_Year', 'Venue_Name', 'City_Name',\n",
    "       'Country_Name_x', 'Toss_Winner', 'match_winner', 'Toss_Name',\n",
    "       'Win_Type', 'Outcome_Type', 'ManOfMach', 'Win_Margin', 'Country_id',\n",
    "       'PLAYER_SK', 'Player_Id','ball_hand', 'ball_type', 'Player_Name', 'DOB', 'Batting_hand',\n",
    "       'Country_Name_y'],axis=1,inplace=True)"
   ]
  },
  {
   "cell_type": "code",
   "execution_count": 284,
   "metadata": {},
   "outputs": [],
   "source": [
    "stat2.drop([ 'Match_SK', 'match_id', 'Team1',\n",
    "       'Team2', 'match_date', 'Season_Year', 'Venue_Name', 'City_Name',\n",
    "       'Country_Name_x', 'Toss_Winner', 'match_winner', 'Toss_Name',\n",
    "       'Win_Type', 'Outcome_Type', 'ManOfMach', 'Win_Margin', 'Country_id',\n",
    "       'PLAYER_SK', 'Player_Id', 'Player_Name', 'DOB', 'Batting_hand',\n",
    "       'Country_Name_y', 'ball_hand', 'ball_type'],axis=1,inplace=True)"
   ]
  },
  {
   "cell_type": "code",
   "execution_count": 285,
   "metadata": {},
   "outputs": [],
   "source": [
    "stat1['Bowler_Wicket']=0\n",
    "stat2['isbatsman']=0\n",
    "stat2['Runs_Scored']=0\n",
    "stat1['isbowler']=0\n",
    "stat1.rename(columns={'Striker':'Player'}, inplace=True)\n",
    "stat2.rename(columns={'Bowler':'Player'}, inplace=True)"
   ]
  },
  {
   "cell_type": "code",
   "execution_count": 286,
   "metadata": {},
   "outputs": [],
   "source": [
    "stat1 = stat1.append(stat2)"
   ]
  },
  {
   "cell_type": "code",
   "execution_count": 287,
   "metadata": {},
   "outputs": [],
   "source": [
    "tf=stat1.groupby(['MatcH_id','Player']).agg({'Runs_Scored':'sum','Bowler_Wicket':'sum','isbatsman':'sum','isbowler':'sum','man_of_match':'mean'}).reset_index()\n"
   ]
  },
  {
   "cell_type": "code",
   "execution_count": 288,
   "metadata": {},
   "outputs": [],
   "source": [
    "tf.drop(['Player','MatcH_id'],axis=1,inplace=True)"
   ]
  },
  {
   "cell_type": "code",
   "execution_count": 289,
   "metadata": {},
   "outputs": [],
   "source": [
    "df= tf.copy()\n",
    "#df['skill']=(((df.isbatsman==1)*1)|((df.isbowler==1)*2))\n",
    "#df[(df.man_of_match==1)&(df.Runs_Scored<40)&((df.Bowler_Wicket==0)|(df.Bowler_Wicket==1))]"
   ]
  },
  {
   "cell_type": "markdown",
   "metadata": {},
   "source": [
    "### Machine Learning: Clustering"
   ]
  },
  {
   "cell_type": "code",
   "execution_count": 290,
   "metadata": {},
   "outputs": [
    {
     "data": {
      "text/html": [
       "<div>\n",
       "<style scoped>\n",
       "    .dataframe tbody tr th:only-of-type {\n",
       "        vertical-align: middle;\n",
       "    }\n",
       "\n",
       "    .dataframe tbody tr th {\n",
       "        vertical-align: top;\n",
       "    }\n",
       "\n",
       "    .dataframe thead th {\n",
       "        text-align: right;\n",
       "    }\n",
       "</style>\n",
       "<table border=\"1\" class=\"dataframe\">\n",
       "  <thead>\n",
       "    <tr style=\"text-align: right;\">\n",
       "      <th></th>\n",
       "      <th>Runs_Scored</th>\n",
       "      <th>Bowler_Wicket</th>\n",
       "      <th>isbatsman</th>\n",
       "      <th>isbowler</th>\n",
       "      <th>man_of_match</th>\n",
       "    </tr>\n",
       "    <tr>\n",
       "      <th>cluster</th>\n",
       "      <th></th>\n",
       "      <th></th>\n",
       "      <th></th>\n",
       "      <th></th>\n",
       "      <th></th>\n",
       "    </tr>\n",
       "  </thead>\n",
       "  <tbody>\n",
       "    <tr>\n",
       "      <th>0</th>\n",
       "      <td>47.593579</td>\n",
       "      <td>0.166014</td>\n",
       "      <td>0.119029</td>\n",
       "      <td>0.014096</td>\n",
       "      <td>0.171104</td>\n",
       "    </tr>\n",
       "    <tr>\n",
       "      <th>1</th>\n",
       "      <td>5.785482</td>\n",
       "      <td>0.580061</td>\n",
       "      <td>0.000000</td>\n",
       "      <td>0.045298</td>\n",
       "      <td>0.018008</td>\n",
       "    </tr>\n",
       "  </tbody>\n",
       "</table>\n",
       "</div>"
      ],
      "text/plain": [
       "         Runs_Scored  Bowler_Wicket  isbatsman  isbowler  man_of_match\n",
       "cluster                                                               \n",
       "0          47.593579       0.166014   0.119029  0.014096      0.171104\n",
       "1           5.785482       0.580061   0.000000  0.045298      0.018008"
      ]
     },
     "execution_count": 290,
     "metadata": {},
     "output_type": "execute_result"
    }
   ],
   "source": [
    "from sklearn.cluster import KMeans\n",
    "cl = KMeans(n_clusters=2)\n",
    "cl.fit(tf)\n",
    "cl.labels_\n",
    "df4 = tf.copy()\n",
    "df4['cluster'] = cl.labels_\n",
    "df4.groupby('cluster').mean()"
   ]
  },
  {
   "cell_type": "markdown",
   "metadata": {},
   "source": [
    "### Validity of the Finding:"
   ]
  },
  {
   "cell_type": "code",
   "execution_count": 291,
   "metadata": {
    "scrolled": true
   },
   "outputs": [
    {
     "data": {
      "text/plain": [
       "<seaborn.axisgrid.FacetGrid at 0x2574c0da860>"
      ]
     },
     "execution_count": 291,
     "metadata": {},
     "output_type": "execute_result"
    },
    {
     "data": {
      "image/png": "[encoded data removed]",
      "text/plain": [
       "<Figure size 360x360 with 1 Axes>"
      ]
     },
     "metadata": {},
     "output_type": "display_data"
    }
   ],
   "source": [
    "sns.catplot(x = 'isbatsman', y = 'man_of_match', data = tf, kind = 'bar')"
   ]
  },
  {
   "cell_type": "code",
   "execution_count": 292,
   "metadata": {},
   "outputs": [
    {
     "data": {
      "text/plain": [
       "<seaborn.axisgrid.FacetGrid at 0x2574be8ccc0>"
      ]
     },
     "execution_count": 292,
     "metadata": {},
     "output_type": "execute_result"
    },
    {
     "data": {
      "image/png": "[encoded data removed]",
      "text/plain": [
       "<Figure size 360x360 with 1 Axes>"
      ]
     },
     "metadata": {},
     "output_type": "display_data"
    }
   ],
   "source": [
    "sns.catplot(x = 'isbowler', y = 'man_of_match', data = tf, kind = 'bar')"
   ]
  },
  {
   "cell_type": "markdown",
   "metadata": {},
   "source": [
    "In the first graph we can see that batsman has 60% of winning the man of the match, and in the second graph bowler only has approximately 30% of winning."
   ]
  },
  {
   "cell_type": "markdown",
   "metadata": {},
   "source": [
    "## Managerial/Stakeholder's Insights:\n",
    "\n",
    "## The people making bets on man of the match should actually bet on the player who batted the best, as the probablity of batsmen becoming man of the match is higher than that of ballers."
   ]
  },
  {
   "cell_type": "code",
   "execution_count": null,
   "metadata": {},
   "outputs": [],
   "source": []
  },
  {
   "cell_type": "code",
   "execution_count": null,
   "metadata": {},
   "outputs": [],
   "source": []
  }
 ],
 "metadata": {
  "kernelspec": {
   "display_name": "Python 3",
   "language": "python",
   "name": "python3"
  },
  "language_info": {
   "codemirror_mode": {
    "name": "ipython",
    "version": 3
   },
   "file_extension": ".py",
   "mimetype": "text/x-python",
   "name": "python",
   "nbconvert_exporter": "python",
   "pygments_lexer": "ipython3",
   "version": "3.6.5"
  }
 },
 "nbformat": 4,
 "nbformat_minor": 2
}
